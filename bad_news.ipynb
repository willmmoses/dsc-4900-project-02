{
 "cells": [
  {
   "cell_type": "code",
   "execution_count": 1,
   "outputs": [],
   "source": [
    "import os\n",
    "import time\n",
    "\n",
    "# import sklearn.linear_model\n",
    "import pandas as pd\n",
    "import sklearn.ensemble\n",
    "import sklearn.linear_model as sklm\n",
    "import sklearn.neural_network as sknn\n",
    "import vaex\n",
    "import vaex.ml\n",
    "import vaex.ml.sklearn\n",
    "import seaborn as sns\n",
    "import matplotlib.pyplot as plt\n",
    "import numpy as np\n",
    "\n",
    "# vaex.settings.main.thread_count = 20"
   ],
   "metadata": {
    "collapsed": false,
    "pycharm": {
     "name": "#%%\n"
    }
   }
  },
  {
   "cell_type": "code",
   "execution_count": 2,
   "outputs": [],
   "source": [
    "features = ['EventType', 'EventDetails', 'EventCountry', 'Actor1Code', 'Actor1Name']\n",
    "target = 'AvgTone'"
   ],
   "metadata": {
    "collapsed": false,
    "pycharm": {
     "name": "#%%\n"
    }
   }
  },
  {
   "cell_type": "code",
   "execution_count": 3,
   "outputs": [
    {
     "name": "stdout",
     "output_type": "stream",
     "text": [
      "Starting read\n",
      "Read completed in 0.9666252136230469 seconds\n",
      "Starting cleanup\n",
      "Cleanup completed in 1.1245028972625732 seconds\n"
     ]
    }
   ],
   "source": [
    "def vx_reader(folder):\n",
    "    print(\"Starting read\")\n",
    "    read_time = time.time()\n",
    "    df = vaex.open(folder,\n",
    "                   dtype={'Actor1Code': str,\n",
    "                          'Actor1Name': str,\n",
    "                          'EventCode': str,\n",
    "                          'ActionGeo_ADM1Code': str,\n",
    "                          'SQLDATE': str})\n",
    "    print(\"Read completed in\", time.time() - read_time, \"seconds\")\n",
    "    print(\"Starting cleanup\")\n",
    "    clean_time = time.time()\n",
    "    df.dropna()\n",
    "    df = df[df.NumMentions > 2000]\n",
    "    df = df[df.SQLDATE > 20000000]\n",
    "    df['EventType'] = df.EventCode.str.slice(start=0, stop=2)\n",
    "    df['EventDetails'] = df.EventCode.str.slice(start=2)\n",
    "    df['EventCountry'] = df.ActionGeo_ADM1Code.str.slice(start=0, stop=2)\n",
    "    df['EventRegion'] = df.ActionGeo_ADM1Code.str.slice(start=2)\n",
    "    # df['Year'] = df.SQLDATE.str.slice(start=0, stop=4)\n",
    "    # df['Month'] = df.SQLDATE.str.slice(start=4, stop=6)\n",
    "    # df['Month'] = df.Month.astype('str')\n",
    "    df = df.drop(['EventCode', 'ActionGeo_ADM1Code'])\n",
    "    df = df.dropna()\n",
    "    # df = df[df.NumMentions > 500]\n",
    "    print(\"Cleanup completed in\", time.time() - clean_time, \"seconds\")\n",
    "    test = df[df.SQLDATE > 20200000]\n",
    "    train = df[df.SQLDATE < 20200000]\n",
    "    # print(df.head(5))\n",
    "    return test, train, df\n",
    "\n",
    "\n",
    "test_df, df, raw = vx_reader(\"data\")"
   ],
   "metadata": {
    "collapsed": false,
    "pycharm": {
     "name": "#%%\n"
    }
   }
  },
  {
   "cell_type": "code",
   "execution_count": 4,
   "outputs": [],
   "source": [
    "def binary_encode(df, test_df, features):\n",
    "    binary_encoder = vaex.ml.MultiHotEncoder(features=features)\n",
    "    binary_encoded_df = binary_encoder.fit_transform(df)\n",
    "    binary_encoded_test = binary_encoder.transform(test_df)\n",
    "    return binary_encoded_df, binary_encoded_test\n",
    "\n",
    "\n",
    "bin_df, bin_test = binary_encode(df, test_df, features)"
   ],
   "metadata": {
    "collapsed": false,
    "pycharm": {
     "name": "#%%\n"
    }
   }
  },
  {
   "cell_type": "code",
   "execution_count": 6,
   "outputs": [],
   "source": [
    "bin_pd = bin_df.to_pandas_df()\n",
    "test_pd = bin_test.to_pandas_df()\n",
    "raw_pd = raw.to_pandas_df()\n",
    "# num_plot = sns.pairplot(raw_pd, corner=True)\n",
    "# num_plot.savefig('num_plots.png')\n",
    "# # num_img.savefig()\n",
    "# g = sns.PairGrid(raw_pd, y_vars=['NumMentions', 'AvgTone'], x_vars=['Actor1Code', 'EventType', 'EventCountry'])\n",
    "# g.savefig('cat_plots.png')\n",
    "# g.map(sns.pointplot, scale=1.3, errwidth=4)\n",
    "# plt.show"
   ],
   "metadata": {
    "collapsed": false,
    "pycharm": {
     "name": "#%%\n"
    }
   }
  },
  {
   "cell_type": "code",
   "execution_count": null,
   "outputs": [],
   "source": [
    "# full_num_plot = sns.pairplot(bin_pd, corner=True)\n",
    "# full_num_plot.savefig('train_num_plots.png')"
   ],
   "metadata": {
    "collapsed": false,
    "pycharm": {
     "name": "#%%\n"
    }
   }
  },
  {
   "cell_type": "code",
   "execution_count": null,
   "outputs": [],
   "source": [
    "# print(test_pd.head())"
   ],
   "metadata": {
    "collapsed": false,
    "pycharm": {
     "name": "#%%\n"
    }
   }
  },
  {
   "cell_type": "code",
   "execution_count": 7,
   "outputs": [
    {
     "name": "stdout",
     "output_type": "stream",
     "text": [
      "0.25881717213078004\n",
      "0.23761713626570946\n"
     ]
    }
   ],
   "source": [
    "def lin_reg(df, test_df):\n",
    "    X = df.drop(['GLOBALEVENTID', 'SQLDATE', 'Actor1Code', 'Actor1Name', 'EventCountry', 'EventRegion', 'AvgTone'], axis=1)\n",
    "    # print(X.head())\n",
    "    X_test = test_df.drop(['GLOBALEVENTID', 'SQLDATE', 'Actor1Code', 'Actor1Name', 'EventCountry', 'EventRegion', 'AvgTone'], axis=1)\n",
    "    # print(X_test.head())\n",
    "    y = pd.DataFrame(df['AvgTone'])\n",
    "    # print(y.head())\n",
    "    y_test = pd.DataFrame(test_df['AvgTone'])\n",
    "    # print(y_test.head())\n",
    "    model = sklm.LinearRegression()\n",
    "    model.fit(X, y)\n",
    "    init_preds = model.predict(X)\n",
    "    preds = model.predict(X_test)\n",
    "    init_score = model.score(X, y)\n",
    "    score = model.score(X_test,y_test)\n",
    "    print(init_score)\n",
    "    print(score)\n",
    "    # print(preds)\n",
    "    return preds, init_preds, score, init_score, X, X_test, y, y_test\n",
    "\n",
    "lm_preds, lm_init_preds, lm_score, lm_init_score, lm_X, lm_X_test, lm_y, lm_y_test = lin_reg(bin_pd, test_pd)\n"
   ],
   "metadata": {
    "collapsed": false,
    "pycharm": {
     "name": "#%%\n"
    }
   }
  },
  {
   "cell_type": "code",
   "execution_count": null,
   "outputs": [],
   "source": [
    "# plt.scatter(lm_X['NumMentions'], lm_y)\n",
    "# plt.plot(lm_X[\"NumMentions\"], lm_init_preds)\n",
    "# plt.title(\"Training\")\n",
    "# # plt.xlabal(\"Training data\")\n",
    "# plt.xlabel('NumMentions')\n",
    "# plt.show()\n",
    "# plt.savefig(\"NumMentions.png\")"
   ],
   "metadata": {
    "collapsed": false,
    "pycharm": {
     "name": "#%%\n"
    }
   }
  },
  {
   "cell_type": "code",
   "execution_count": null,
   "outputs": [],
   "source": [
    "\n",
    "# for X_col in X.columns:\n",
    "#     plt.scatter(X[X_col], y)\n",
    "#     plt.plot(X[X_col], svm_init_preds)\n",
    "#     plt.title(\"Training\")\n",
    "#     # plt.xlabal(\"Training data\")\n",
    "#     plt.xlabel(X_col)\n",
    "#     plt.show()\n",
    "#     plt.savefig(X_col + \".png\")"
   ],
   "metadata": {
    "collapsed": false,
    "pycharm": {
     "name": "#%%\n"
    }
   }
  },
  {
   "cell_type": "code",
   "execution_count": 15,
   "outputs": [
    {
     "name": "stdout",
     "output_type": "stream",
     "text": [
      "0.9100409222412917\n",
      "0.20565580252682536\n"
     ]
    }
   ],
   "source": [
    "def random_forest(df, test_df):\n",
    "    X = df.drop(['GLOBALEVENTID', 'SQLDATE', 'Actor1Code', 'Actor1Name', 'EventCountry', 'EventRegion', 'AvgTone'], axis=1)\n",
    "    # print(X.head())\n",
    "    X_test = test_df.drop(['GLOBALEVENTID', 'SQLDATE', 'Actor1Code', 'Actor1Name', 'EventCountry', 'EventRegion', 'AvgTone'], axis=1)\n",
    "    # print(X_test.head())\n",
    "    y = np.ravel(pd.DataFrame(df['AvgTone']))\n",
    "    # print(y.head())\n",
    "    y_test = np.ravel(pd.DataFrame(test_df['AvgTone']))\n",
    "    # print(y_test.head())\n",
    "    model = sklearn.ensemble.RandomForestRegressor(n_jobs=-1)\n",
    "    model.fit(X, y)\n",
    "    init_path = model.decision_path(X)\n",
    "    path = model.decision_path(X_test)\n",
    "    init_preds = model.predict(X)\n",
    "    preds = model.predict(X_test)\n",
    "    init_score = model.score(X, y)\n",
    "    score = model.score(X_test,y_test)\n",
    "    print(init_score)\n",
    "    print(score)\n",
    "    # print(preds)\n",
    "    return preds, init_preds, score, init_score, path, init_path, X, X_test, y, y_test, model\n",
    "\n",
    "rf_preds, rf_init_preds, rf_score, rf_init_score, rf_path, rf_init_path, rf_X, rf_X_test, rf_y, rf_y_test, model = random_forest(bin_pd, test_pd)"
   ],
   "metadata": {
    "collapsed": false,
    "pycharm": {
     "name": "#%%\n"
    }
   }
  },
  {
   "cell_type": "code",
   "execution_count": 16,
   "outputs": [
    {
     "name": "stdout",
     "output_type": "stream",
     "text": [
      "(<8364x8203380 sparse matrix of type '<class 'numpy.int64'>'\n",
      "\twith 19706103 stored elements in Compressed Sparse Row format>, array([      0,   81917,  164080,  246013,  327940,  410155,  492260,\n",
      "        574319,  656110,  738351,  820230,  902715,  984808, 1066849,\n",
      "       1149064, 1230949, 1312932, 1395159, 1477176, 1559265, 1641232,\n",
      "       1723021, 1804976, 1887063, 1969172, 2051133, 2133250, 2215227,\n",
      "       2297164, 2379597, 2461404, 2543471, 2625458, 2707421, 2789524,\n",
      "       2871487, 2953830, 3035993, 3117958, 3199953, 3281966, 3364033,\n",
      "       3445926, 3528287, 3610342, 3692733, 3774968, 3857047, 3938894,\n",
      "       4020739, 4102832, 4184871, 4266878, 4348849, 4430792, 4512827,\n",
      "       4594894, 4676999, 4758982, 4840799, 4922870, 5005111, 5087026,\n",
      "       5169023, 5251012, 5332849, 5414934, 5496817, 5578680, 5660579,\n",
      "       5742946, 5824967, 5907036, 5988911, 6070882, 6153149, 6235248,\n",
      "       6317173, 6399170, 6480853, 6562782, 6644881, 6726892, 6809079,\n",
      "       6891196, 6973275, 7055248, 7137225, 7219270, 7301311, 7383408,\n",
      "       7465529, 7547468, 7629511, 7711534, 7793407, 7875600, 7957533,\n",
      "       8039450, 8121325, 8203380], dtype=int32))\n"
     ]
    },
    {
     "ename": "AttributeError",
     "evalue": "'RandomForestRegressor' object has no attribute 'tree_'",
     "output_type": "error",
     "traceback": [
      "\u001B[1;31m---------------------------------------------------------------------------\u001B[0m",
      "\u001B[1;31mAttributeError\u001B[0m                            Traceback (most recent call last)",
      "Input \u001B[1;32mIn [16]\u001B[0m, in \u001B[0;36m<cell line: 2>\u001B[1;34m()\u001B[0m\n\u001B[0;32m      1\u001B[0m \u001B[38;5;28mprint\u001B[39m(rf_path)\n\u001B[1;32m----> 2\u001B[0m \u001B[43msklearn\u001B[49m\u001B[38;5;241;43m.\u001B[39;49m\u001B[43mtree\u001B[49m\u001B[38;5;241;43m.\u001B[39;49m\u001B[43mplot_tree\u001B[49m\u001B[43m(\u001B[49m\u001B[43mmodel\u001B[49m\u001B[43m,\u001B[49m\u001B[43m \u001B[49m\u001B[43mfeature_names\u001B[49m\u001B[38;5;241;43m=\u001B[39;49m\u001B[43mrf_X\u001B[49m\u001B[38;5;241;43m.\u001B[39;49m\u001B[43mcolumns\u001B[49m\u001B[43m)\u001B[49m\n",
      "File \u001B[1;32mC:\\ProgramData\\Miniconda3\\envs\\dsc-4900-project-02-38\\lib\\site-packages\\sklearn\\tree\\_export.py:195\u001B[0m, in \u001B[0;36mplot_tree\u001B[1;34m(decision_tree, max_depth, feature_names, class_names, label, filled, impurity, node_ids, proportion, rounded, precision, ax, fontsize)\u001B[0m\n\u001B[0;32m    180\u001B[0m check_is_fitted(decision_tree)\n\u001B[0;32m    182\u001B[0m exporter \u001B[38;5;241m=\u001B[39m _MPLTreeExporter(\n\u001B[0;32m    183\u001B[0m     max_depth\u001B[38;5;241m=\u001B[39mmax_depth,\n\u001B[0;32m    184\u001B[0m     feature_names\u001B[38;5;241m=\u001B[39mfeature_names,\n\u001B[1;32m   (...)\u001B[0m\n\u001B[0;32m    193\u001B[0m     fontsize\u001B[38;5;241m=\u001B[39mfontsize,\n\u001B[0;32m    194\u001B[0m )\n\u001B[1;32m--> 195\u001B[0m \u001B[38;5;28;01mreturn\u001B[39;00m \u001B[43mexporter\u001B[49m\u001B[38;5;241;43m.\u001B[39;49m\u001B[43mexport\u001B[49m\u001B[43m(\u001B[49m\u001B[43mdecision_tree\u001B[49m\u001B[43m,\u001B[49m\u001B[43m \u001B[49m\u001B[43max\u001B[49m\u001B[38;5;241;43m=\u001B[39;49m\u001B[43max\u001B[49m\u001B[43m)\u001B[49m\n",
      "File \u001B[1;32mC:\\ProgramData\\Miniconda3\\envs\\dsc-4900-project-02-38\\lib\\site-packages\\sklearn\\tree\\_export.py:656\u001B[0m, in \u001B[0;36m_MPLTreeExporter.export\u001B[1;34m(self, decision_tree, ax)\u001B[0m\n\u001B[0;32m    654\u001B[0m ax\u001B[38;5;241m.\u001B[39mclear()\n\u001B[0;32m    655\u001B[0m ax\u001B[38;5;241m.\u001B[39mset_axis_off()\n\u001B[1;32m--> 656\u001B[0m my_tree \u001B[38;5;241m=\u001B[39m \u001B[38;5;28mself\u001B[39m\u001B[38;5;241m.\u001B[39m_make_tree(\u001B[38;5;241m0\u001B[39m, \u001B[43mdecision_tree\u001B[49m\u001B[38;5;241;43m.\u001B[39;49m\u001B[43mtree_\u001B[49m, decision_tree\u001B[38;5;241m.\u001B[39mcriterion)\n\u001B[0;32m    657\u001B[0m draw_tree \u001B[38;5;241m=\u001B[39m buchheim(my_tree)\n\u001B[0;32m    659\u001B[0m \u001B[38;5;66;03m# important to make sure we're still\u001B[39;00m\n\u001B[0;32m    660\u001B[0m \u001B[38;5;66;03m# inside the axis after drawing the box\u001B[39;00m\n\u001B[0;32m    661\u001B[0m \u001B[38;5;66;03m# this makes sense because the width of a box\u001B[39;00m\n\u001B[0;32m    662\u001B[0m \u001B[38;5;66;03m# is about the same as the distance between boxes\u001B[39;00m\n",
      "\u001B[1;31mAttributeError\u001B[0m: 'RandomForestRegressor' object has no attribute 'tree_'"
     ]
    },
    {
     "data": {
      "text/plain": "<Figure size 432x288 with 1 Axes>",
      "image/png": "[encoded data removed]"
     },
     "metadata": {},
     "output_type": "display_data"
    }
   ],
   "source": [
    "print(rf_path)\n",
    "sklearn.tree.plot_tree(model, feature_names=rf_X.columns)"
   ],
   "metadata": {
    "collapsed": false,
    "pycharm": {
     "name": "#%%\n"
    }
   }
  },
  {
   "cell_type": "code",
   "execution_count": 9,
   "outputs": [
    {
     "name": "stdout",
     "output_type": "stream",
     "text": [
      "0.03180567915944965\n",
      "0.026456959717162887\n"
     ]
    }
   ],
   "source": [
    "def svm(df, test_df):\n",
    "    X = df.drop(['GLOBALEVENTID', 'SQLDATE', 'Actor1Code', 'Actor1Name', 'EventCountry', 'EventRegion', 'AvgTone'], axis=1)\n",
    "    # print(X.head())\n",
    "    X_test = test_df.drop(['GLOBALEVENTID', 'SQLDATE', 'Actor1Code', 'Actor1Name', 'EventCountry', 'EventRegion', 'AvgTone'], axis=1)\n",
    "    # print(X_test.head())\n",
    "    y = np.ravel(pd.DataFrame(df['AvgTone']))\n",
    "    # print(y.head())\n",
    "    y_test = np.ravel(pd.DataFrame(test_df['AvgTone']))\n",
    "    # print(y_test.head())\n",
    "    model = sklearn.svm.SVR()\n",
    "    model.fit(X, y)\n",
    "    init_preds = model.predict(X)\n",
    "    preds = model.predict(X_test)\n",
    "    init_score = model.score(X, y)\n",
    "    score = model.score(X_test,y_test)\n",
    "    print(init_score)\n",
    "    print(score)\n",
    "    # print(preds)\n",
    "    return preds, init_preds, score, init_score, X, X_test, y, y_test\n",
    "\n",
    "svm_preds, svm_init_preds, svm_score, svm_init_score, svm_X, svm_X_test, svm_y, svm_y_test = svm(bin_pd, test_pd)"
   ],
   "metadata": {
    "collapsed": false,
    "pycharm": {
     "name": "#%%\n"
    }
   }
  },
  {
   "cell_type": "code",
   "execution_count": 10,
   "outputs": [
    {
     "name": "stdout",
     "output_type": "stream",
     "text": [
      "0.24273410823070907\n",
      "0.20849826552559836\n"
     ]
    }
   ],
   "source": [
    "def nn(df, test_df):\n",
    "    X = df.drop(['GLOBALEVENTID', 'SQLDATE', 'Actor1Code', 'Actor1Name', 'EventCountry', 'EventRegion', 'AvgTone'], axis=1)\n",
    "    # print(X.head())\n",
    "    X_test = test_df.drop(['GLOBALEVENTID', 'SQLDATE', 'Actor1Code', 'Actor1Name', 'EventCountry', 'EventRegion', 'AvgTone'], axis=1)\n",
    "    # print(X_test.head())\n",
    "    y = np.ravel(pd.DataFrame(df['AvgTone']))\n",
    "    # print(y.head())\n",
    "    y_test = np.ravel(pd.DataFrame(test_df['AvgTone']))\n",
    "    # print(y_test.head())\n",
    "    model = sknn.MLPRegressor(early_stopping=True, max_iter=1000, learning_rate='adaptive')\n",
    "    model.fit(X.values, y)\n",
    "    init_preds = model.predict(X.values)\n",
    "    preds = model.predict(X_test.values)\n",
    "    init_score = model.score(X.values, y)\n",
    "    score = model.score(X_test.values,y_test)\n",
    "    print(init_score)\n",
    "    print(score)\n",
    "    # print(preds)\n",
    "    return preds, init_preds, score, init_score, X, X_test, y, y_test\n",
    "\n",
    "nn_preds, nn_init_preds, nn_score, nn_init_score, nn_X, nn_X_test, nn_y, nn_y_test = nn(bin_pd, test_pd)\n",
    "#     preds = model.predict(X.values)\n",
    "#     score = model.score(X_test.values, y_test)\n",
    "#     # print(model.n_iter)\n",
    "#     print(score)\n",
    "#     return preds, score\n",
    "#\n",
    "# nn_preds, nn_score = nn(bin_pd, test_pd)"
   ],
   "metadata": {
    "collapsed": false,
    "pycharm": {
     "name": "#%%\n"
    }
   }
  },
  {
   "cell_type": "code",
   "execution_count": 11,
   "outputs": [
    {
     "name": "stdout",
     "output_type": "stream",
     "text": [
      "(68048, 52)\n",
      "(8364, 52)\n",
      "R2's (Train/Test):\n",
      "LinReg: 0.25881717213078004 / 0.23761713626570946\n",
      "Random Forest: 0.9098906539922159 / 0.21151952228782245\n",
      "SVR: 0.03180567915944965 / 0.026456959717162887\n",
      "NN: 0.24273410823070907 / 0.20849826552559836\n"
     ]
    }
   ],
   "source": [
    "print(bin_pd.shape)\n",
    "print(test_pd.shape)\n",
    "print(\"R2's (Train/Test):\")\n",
    "print(\"LinReg:\", lm_init_score, \"/\", lm_score)\n",
    "print(\"Random Forest:\", rf_init_score, \"/\", rf_score)\n",
    "print(\"SVR:\", svm_init_score, \"/\", svm_score)\n",
    "print(\"NN:\", nn_init_score, \"/\", nn_score)"
   ],
   "metadata": {
    "collapsed": false,
    "pycharm": {
     "name": "#%%\n"
    }
   }
  },
  {
   "cell_type": "code",
   "execution_count": null,
   "outputs": [],
   "source": [],
   "metadata": {
    "collapsed": false,
    "pycharm": {
     "name": "#%%\n"
    }
   }
  }
 ],
 "metadata": {
  "kernelspec": {
   "display_name": "Python 3",
   "language": "python",
   "name": "python3"
  },
  "language_info": {
   "codemirror_mode": {
    "name": "ipython",
    "version": 2
   },
   "file_extension": ".py",
   "mimetype": "text/x-python",
   "name": "python",
   "nbconvert_exporter": "python",
   "pygments_lexer": "ipython2",
   "version": "2.7.6"
  }
 },
 "nbformat": 4,
 "nbformat_minor": 0
}