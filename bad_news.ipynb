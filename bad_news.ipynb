{
 "cells": [
  {
   "cell_type": "code",
   "execution_count": 1,
   "outputs": [],
   "source": [
    "import time\n",
    "import pandas as pd\n",
    "import sklearn\n",
    "import sklearn.ensemble as ske\n",
    "import sklearn.linear_model as sklm\n",
    "import sklearn.neural_network as sknn\n",
    "import vaex\n",
    "import vaex.ml\n",
    "import vaex.ml.sklearn\n",
    "import numpy as np"
   ],
   "metadata": {
    "collapsed": false,
    "pycharm": {
     "name": "#%%\n"
    }
   }
  },
  {
   "cell_type": "code",
   "execution_count": 2,
   "outputs": [],
   "source": [
    "features = ['EventType', 'EventDetails', 'EventCountry', 'Actor1Code', 'Actor1Name']\n",
    "target = 'AvgTone'"
   ],
   "metadata": {
    "collapsed": false,
    "pycharm": {
     "name": "#%%\n"
    }
   }
  },
  {
   "cell_type": "code",
   "execution_count": 3,
   "outputs": [
    {
     "name": "stdout",
     "output_type": "stream",
     "text": [
      "Starting read\n",
      "Read completed in 0.9666252136230469 seconds\n",
      "Starting cleanup\n",
      "Cleanup completed in 1.1245028972625732 seconds\n"
     ]
    }
   ],
   "source": [
    "def vx_reader(folder):\n",
    "    print(\"Starting read\")\n",
    "    read_time = time.time()\n",
    "    vaex_df = vaex.open(folder,\n",
    "                        dtype={'Actor1Code': str,\n",
    "                          'Actor1Name': str,\n",
    "                          'EventCode': str,\n",
    "                          'ActionGeo_ADM1Code': str,\n",
    "                          'SQLDATE': str})\n",
    "    print(\"Read completed in\", time.time() - read_time, \"seconds\")\n",
    "    print(\"Starting cleanup\")\n",
    "    clean_time = time.time()\n",
    "    vaex_df.dropna()\n",
    "    vaex_df = vaex_df[vaex_df.NumMentions > 2000]\n",
    "    vaex_df = vaex_df[vaex_df.SQLDATE > 20000000]\n",
    "    vaex_df['EventType'] = vaex_df.EventCode.str.slice(start=0, stop=2)\n",
    "    vaex_df['EventDetails'] = vaex_df.EventCode.str.slice(start=2)\n",
    "    vaex_df['EventCountry'] = vaex_df.ActionGeo_ADM1Code.str.slice(start=0, stop=2)\n",
    "    vaex_df['EventRegion'] = vaex_df.ActionGeo_ADM1Code.str.slice(start=2)\n",
    "    vaex_df = vaex_df.drop(['EventCode', 'ActionGeo_ADM1Code'])\n",
    "    vaex_df = vaex_df.dropna()\n",
    "    print(\"Cleanup completed in\", time.time() - clean_time, \"seconds\")\n",
    "    test = vaex_df[vaex_df.SQLDATE > 20200000]\n",
    "    train = vaex_df[vaex_df.SQLDATE < 20200000]\n",
    "    return test, train, vaex_df\n",
    "\n",
    "\n",
    "vx_test_df, vx_train_df, raw = vx_reader(\"data\")"
   ],
   "metadata": {
    "collapsed": false,
    "pycharm": {
     "name": "#%%\n"
    }
   }
  },
  {
   "cell_type": "code",
   "execution_count": 4,
   "outputs": [],
   "source": [
    "def binary_encode(train_df, test_df, feature_list):\n",
    "    binary_encoder = vaex.ml.MultiHotEncoder(features=feature_list)\n",
    "    binary_encoded_df = binary_encoder.fit_transform(train_df)\n",
    "    binary_encoded_test = binary_encoder.transform(test_df)\n",
    "    return binary_encoded_df, binary_encoded_test\n",
    "\n",
    "\n",
    "bin_df, bin_test = binary_encode(vx_test_df, vx_test_df, features)"
   ],
   "metadata": {
    "collapsed": false,
    "pycharm": {
     "name": "#%%\n"
    }
   }
  },
  {
   "cell_type": "code",
   "execution_count": 6,
   "outputs": [],
   "source": [
    "bin_pd = bin_df.to_pandas_df()\n",
    "test_pd = bin_test.to_pandas_df()\n",
    "raw_pd = raw.to_pandas_df()"
   ],
   "metadata": {
    "collapsed": false,
    "pycharm": {
     "name": "#%%\n"
    }
   }
  },
  {
   "cell_type": "code",
   "execution_count": 7,
   "outputs": [
    {
     "name": "stdout",
     "output_type": "stream",
     "text": [
      "0.25881717213078004\n",
      "0.23761713626570946\n"
     ]
    }
   ],
   "source": [
    "def lin_reg(train_df, test_df):\n",
    "    x_train = train_df.drop(['GLOBALEVENTID', 'SQLDATE', 'Actor1Code', 'Actor1Name', 'EventCountry', 'EventRegion', 'AvgTone'],\n",
    "                      axis=1)\n",
    "    x_test = test_df.drop(\n",
    "        ['GLOBALEVENTID', 'SQLDATE', 'Actor1Code', 'Actor1Name', 'EventCountry', 'EventRegion', 'AvgTone'], axis=1)\n",
    "    y_train = pd.DataFrame(train_df['AvgTone'])\n",
    "    y_test = pd.DataFrame(test_df['AvgTone'])\n",
    "    model = sklm.LinearRegression()\n",
    "    model.fit(x_train, y_train)\n",
    "    init_predictors = model.predict(x_train)\n",
    "    predictors = model.predict(x_test)\n",
    "    init_score = model.score(x_train, y_train)\n",
    "    score = model.score(x_test, y_test)\n",
    "    print(init_score)\n",
    "    print(score)\n",
    "    return predictors, init_predictors, score, init_score, x_train, x_test, y_train, y_test\n",
    "\n",
    "\n",
    "lm_predictors, lm_init_predictors, lm_score, lm_init_score, lm_X, lm_X_test, lm_y, lm_y_test = lin_reg(bin_pd, test_pd)\n"
   ],
   "metadata": {
    "collapsed": false,
    "pycharm": {
     "name": "#%%\n"
    }
   }
  },
  {
   "cell_type": "code",
   "execution_count": null,
   "outputs": [],
   "source": [
    "def random_forest(train_df, test_df):\n",
    "    x_train = train_df.drop(['GLOBALEVENTID', 'SQLDATE', 'Actor1Code', 'Actor1Name', 'EventCountry', 'EventRegion', 'AvgTone'],\n",
    "                      axis=1)\n",
    "    x_test = test_df.drop(\n",
    "        ['GLOBALEVENTID', 'SQLDATE', 'Actor1Code', 'Actor1Name', 'EventCountry', 'EventRegion', 'AvgTone'], axis=1)\n",
    "    y = np.ravel(pd.DataFrame(train_df['AvgTone']))\n",
    "    y_test = np.ravel(pd.DataFrame(test_df['AvgTone']))\n",
    "    model = ske.RandomForestRegressor(n_jobs=-1)\n",
    "    model.fit(x_train, y)\n",
    "    init_path = model.decision_path(x_train)\n",
    "    path = model.decision_path(x_test)\n",
    "    init_predictors = model.predict(x_train)\n",
    "    predictors = model.predict(x_test)\n",
    "    init_score = model.score(x_train, y)\n",
    "    score = model.score(x_test, y_test)\n",
    "    print(init_score)\n",
    "    print(score)\n",
    "    return predictors, init_predictors, score, init_score, path, init_path, x_train, x_test, y, y_test, model\n",
    "\n",
    "\n",
    "rf_predictors, rf_init_predictors, rf_score, rf_init_score, rf_path, rf_init_path, rf_X, rf_X_test, rf_y, rf_y_test = random_forest(\n",
    "    bin_pd, test_pd)"
   ],
   "metadata": {
    "collapsed": false,
    "pycharm": {
     "name": "#%%\n"
    }
   }
  },
  {
   "cell_type": "code",
   "execution_count": 9,
   "outputs": [
    {
     "name": "stdout",
     "output_type": "stream",
     "text": [
      "0.03180567915944965\n",
      "0.026456959717162887\n"
     ]
    }
   ],
   "source": [
    "def svm(df, test_df):\n",
    "    x_train = df.drop(['GLOBALEVENTID', 'SQLDATE', 'Actor1Code', 'Actor1Name', 'EventCountry', 'EventRegion', 'AvgTone'],\n",
    "                axis=1)\n",
    "    x_test = test_df.drop(\n",
    "        ['GLOBALEVENTID', 'SQLDATE', 'Actor1Code', 'Actor1Name', 'EventCountry', 'EventRegion', 'AvgTone'], axis=1)\n",
    "    y = np.ravel(pd.DataFrame(df['AvgTone']))\n",
    "    y_test = np.ravel(pd.DataFrame(test_df['AvgTone']))\n",
    "    model = sklearn.svm.SVR()\n",
    "    model.fit(x_train, y)\n",
    "    init_predictors = model.predict(x_train)\n",
    "    predictors = model.predict(x_test)\n",
    "    init_score = model.score(x_train, y)\n",
    "    score = model.score(x_test, y_test)\n",
    "    print(init_score)\n",
    "    print(score)\n",
    "    return predictors, init_predictors, score, init_score, x_train, x_test, y, y_test\n",
    "\n",
    "\n",
    "svm_predictors, svm_init_predictors, svm_score, svm_init_score, svm_X, svm_X_test, svm_y, svm_y_test = svm(bin_pd, test_pd)"
   ],
   "metadata": {
    "collapsed": false,
    "pycharm": {
     "name": "#%%\n"
    }
   }
  },
  {
   "cell_type": "code",
   "execution_count": 10,
   "outputs": [
    {
     "name": "stdout",
     "output_type": "stream",
     "text": [
      "0.24273410823070907\n",
      "0.20849826552559836\n"
     ]
    }
   ],
   "source": [
    "def nn(train_df, test_df):\n",
    "    x_train = train_df.drop(['GLOBALEVENTID', 'SQLDATE', 'Actor1Code', 'Actor1Name', 'EventCountry', 'EventRegion', 'AvgTone'],\n",
    "                      axis=1)\n",
    "    x_test = test_df.drop(\n",
    "        ['GLOBALEVENTID', 'SQLDATE', 'Actor1Code', 'Actor1Name', 'EventCountry', 'EventRegion', 'AvgTone'], axis=1)\n",
    "    y = np.ravel(pd.DataFrame(train_df['AvgTone']))\n",
    "    y_test = np.ravel(pd.DataFrame(test_df['AvgTone']))\n",
    "    model = sknn.MLPRegressor(early_stopping=True, max_iter=1000, learning_rate='adaptive')\n",
    "    model.fit(x_train.values, y)\n",
    "    init_predictors = model.predict(x_train.values)\n",
    "    predictors = model.predict(x_test.values)\n",
    "    init_score = model.score(x_train.values, y)\n",
    "    score = model.score(x_test.values, y_test)\n",
    "    print(init_score)\n",
    "    print(score)\n",
    "    return predictors, init_predictors, score, init_score, x_train, x_test, y, y_test\n",
    "\n",
    "\n",
    "nn_predictors, nn_init_predictors, nn_score, nn_init_score, nn_X, nn_X_test, nn_y, nn_y_test = nn(bin_pd, test_pd)"
   ],
   "metadata": {
    "collapsed": false,
    "pycharm": {
     "name": "#%%\n"
    }
   }
  },
  {
   "cell_type": "code",
   "execution_count": 11,
   "outputs": [
    {
     "name": "stdout",
     "output_type": "stream",
     "text": [
      "(68048, 52)\n",
      "(8364, 52)\n",
      "R2's (Train/Test):\n",
      "LinReg: 0.25881717213078004 / 0.23761713626570946\n",
      "Random Forest: 0.9098906539922159 / 0.21151952228782245\n",
      "SVR: 0.03180567915944965 / 0.026456959717162887\n",
      "NN: 0.24273410823070907 / 0.20849826552559836\n"
     ]
    }
   ],
   "source": [
    "print(bin_pd.shape)\n",
    "print(test_pd.shape)\n",
    "print(\"R2's (Train/Test):\")\n",
    "print(\"LinReg:\", lm_init_score, \"/\", lm_score)\n",
    "print(\"Random Forest:\", rf_init_score, \"/\", rf_score)\n",
    "print(\"SVR:\", svm_init_score, \"/\", svm_score)\n",
    "print(\"NN:\", nn_init_score, \"/\", nn_score)"
   ],
   "metadata": {
    "collapsed": false,
    "pycharm": {
     "name": "#%%\n"
    }
   }
  },
  {
   "cell_type": "code",
   "execution_count": null,
   "outputs": [],
   "source": [],
   "metadata": {
    "collapsed": false,
    "pycharm": {
     "name": "#%%\n"
    }
   }
  }
 ],
 "metadata": {
  "kernelspec": {
   "display_name": "Python 3",
   "language": "python",
   "name": "python3"
  },
  "language_info": {
   "codemirror_mode": {
    "name": "ipython",
    "version": 2
   },
   "file_extension": ".py",
   "mimetype": "text/x-python",
   "name": "python",
   "nbconvert_exporter": "python",
   "pygments_lexer": "ipython2",
   "version": "2.7.6"
  }
 },
 "nbformat": 4,
 "nbformat_minor": 0
}